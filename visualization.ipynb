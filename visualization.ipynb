{
 "cells": [
  {
   "cell_type": "code",
   "execution_count": 17,
   "metadata": {},
   "outputs": [],
   "source": [
    "import pandas as pd\n",
    "import numpy as np\n",
    "import json\n",
    "from matplotlib import pyplot as plt\n",
    "import pandas as pd\n",
    "from mpl_toolkits.mplot3d import Axes3D"
   ]
  },
  {
   "cell_type": "code",
   "execution_count": 18,
   "metadata": {},
   "outputs": [],
   "source": [
    "mdls = ['mip', 'cp']\n",
    "res_ = []\n",
    "for mdl in mdls:\n",
    "     with open(\"./results/results_{}_unrestricted.json\".format(mdl), \"r\") as f:\n",
    "        raw = json.load(f)\n",
    "        raw = pd.DataFrame(raw)\n",
    "        raw['mdl_name'] = mdl\n",
    "        raw['PARAMS'] = raw['NUM_COLORS'].map(str) + ',' + raw['NUM_ITEMS'].map(str) + ','  + raw['BIN_SIZE'].map(str) + ','  + raw['DISCREPANCY'].map(str)\n",
    "#         raw = raw.set_index('PARAMS')\n",
    "        res_.append(raw)\n",
    "         \n",
    "res = pd.concat(res_)\n",
    "res['STATUS'] = res['STATUS'].str.lower()\n"
   ]
  },
  {
   "cell_type": "code",
   "execution_count": 19,
   "metadata": {},
   "outputs": [
    {
     "data": {
      "text/plain": [
       "'cp'"
      ]
     },
     "execution_count": 19,
     "metadata": {},
     "output_type": "execute_result"
    }
   ],
   "source": [
    "mdl"
   ]
  },
  {
   "cell_type": "code",
   "execution_count": 20,
   "metadata": {},
   "outputs": [],
   "source": [
    "res_across = pd.concat(res_,\n",
    "    axis=1,\n",
    "    join=\"outer\",\n",
    "    names=['mip','cp'])"
   ]
  },
  {
   "cell_type": "code",
   "execution_count": 21,
   "metadata": {},
   "outputs": [],
   "source": [
    "# res = res[res['NUM_COLORS'] >= 16]\n",
    "# res = res[res['NUM_ITEMS'] >= 16]\n",
    "# res = res[res['BIN_SIZE'] >= 16]\n",
    "\n",
    "\n"
   ]
  },
  {
   "cell_type": "code",
   "execution_count": 22,
   "metadata": {},
   "outputs": [
    {
     "data": {
      "text/plain": [
       "array([0.  , 0.25, 0.75, 0.5 ])"
      ]
     },
     "execution_count": 22,
     "metadata": {},
     "output_type": "execute_result"
    }
   ],
   "source": [
    "res['DISCREPANCY'].unique()"
   ]
  },
  {
   "cell_type": "code",
   "execution_count": 23,
   "metadata": {},
   "outputs": [
    {
     "data": {
      "text/html": [
       "<div>\n",
       "<style scoped>\n",
       "    .dataframe tbody tr th:only-of-type {\n",
       "        vertical-align: middle;\n",
       "    }\n",
       "\n",
       "    .dataframe tbody tr th {\n",
       "        vertical-align: top;\n",
       "    }\n",
       "\n",
       "    .dataframe thead th {\n",
       "        text-align: right;\n",
       "    }\n",
       "</style>\n",
       "<table border=\"1\" class=\"dataframe\">\n",
       "  <thead>\n",
       "    <tr style=\"text-align: right;\">\n",
       "      <th></th>\n",
       "      <th>PARAMS</th>\n",
       "      <th>OBJ_VAL_x</th>\n",
       "      <th>STATUS_x</th>\n",
       "      <th>OBJ_VAL_y</th>\n",
       "      <th>STATUS_y</th>\n",
       "    </tr>\n",
       "  </thead>\n",
       "  <tbody>\n",
       "    <tr>\n",
       "      <th>0</th>\n",
       "      <td>4,8,8,0.0</td>\n",
       "      <td>4.0</td>\n",
       "      <td>integer optimal solution</td>\n",
       "      <td>4.0</td>\n",
       "      <td>optimal</td>\n",
       "    </tr>\n",
       "    <tr>\n",
       "      <th>1</th>\n",
       "      <td>8,8,8,0.25</td>\n",
       "      <td>3.0</td>\n",
       "      <td>integer optimal solution</td>\n",
       "      <td>3.0</td>\n",
       "      <td>optimal</td>\n",
       "    </tr>\n",
       "    <tr>\n",
       "      <th>2</th>\n",
       "      <td>8,8,8,0.75</td>\n",
       "      <td>2.0</td>\n",
       "      <td>integer optimal solution</td>\n",
       "      <td>2.0</td>\n",
       "      <td>optimal</td>\n",
       "    </tr>\n",
       "    <tr>\n",
       "      <th>3</th>\n",
       "      <td>8,8,16,0.0</td>\n",
       "      <td>4.0</td>\n",
       "      <td>integer optimal solution</td>\n",
       "      <td>4.0</td>\n",
       "      <td>optimal</td>\n",
       "    </tr>\n",
       "    <tr>\n",
       "      <th>4</th>\n",
       "      <td>4,16,16,0.25</td>\n",
       "      <td>5.0</td>\n",
       "      <td>integer optimal solution</td>\n",
       "      <td>5.0</td>\n",
       "      <td>optimal</td>\n",
       "    </tr>\n",
       "    <tr>\n",
       "      <th>5</th>\n",
       "      <td>8,8,16,0.5</td>\n",
       "      <td>3.0</td>\n",
       "      <td>integer optimal solution</td>\n",
       "      <td>3.0</td>\n",
       "      <td>optimal</td>\n",
       "    </tr>\n",
       "    <tr>\n",
       "      <th>6</th>\n",
       "      <td>4,16,16,0.75</td>\n",
       "      <td>3.0</td>\n",
       "      <td>integer optimal solution</td>\n",
       "      <td>3.0</td>\n",
       "      <td>optimal</td>\n",
       "    </tr>\n",
       "  </tbody>\n",
       "</table>\n",
       "</div>"
      ],
      "text/plain": [
       "         PARAMS  OBJ_VAL_x                  STATUS_x  OBJ_VAL_y STATUS_y\n",
       "0     4,8,8,0.0        4.0  integer optimal solution        4.0  optimal\n",
       "1    8,8,8,0.25        3.0  integer optimal solution        3.0  optimal\n",
       "2    8,8,8,0.75        2.0  integer optimal solution        2.0  optimal\n",
       "3    8,8,16,0.0        4.0  integer optimal solution        4.0  optimal\n",
       "4  4,16,16,0.25        5.0  integer optimal solution        5.0  optimal\n",
       "5    8,8,16,0.5        3.0  integer optimal solution        3.0  optimal\n",
       "6  4,16,16,0.75        3.0  integer optimal solution        3.0  optimal"
      ]
     },
     "execution_count": 23,
     "metadata": {},
     "output_type": "execute_result"
    }
   ],
   "source": [
    "p_mip = res[res['mdl_name'] == 'mip'][['PARAMS','OBJ_VAL', 'STATUS']]\n",
    "p_cp = res[res['mdl_name'] == 'cp'][['PARAMS','OBJ_VAL', 'STATUS']]\n",
    "\n",
    "p = pd.merge(p_mip, p_cp, on='PARAMS')\n",
    "p"
   ]
  },
  {
   "cell_type": "code",
   "execution_count": null,
   "metadata": {},
   "outputs": [],
   "source": []
  },
  {
   "cell_type": "code",
   "execution_count": 24,
   "metadata": {},
   "outputs": [
    {
     "name": "stdout",
     "output_type": "stream",
     "text": [
      "11\n",
      "34\n"
     ]
    }
   ],
   "source": [
    "len(p_mip) == len(p_cp)\n",
    "print(len(p_mip))\n",
    "print(len(p_cp))"
   ]
  },
  {
   "cell_type": "code",
   "execution_count": 25,
   "metadata": {},
   "outputs": [
    {
     "name": "stdout",
     "output_type": "stream",
     "text": [
      "0 mip\n",
      "1 cp\n"
     ]
    },
    {
     "data": {
      "image/png": "[encoded data removed]",
      "text/plain": [
       "<Figure size 720x360 with 1 Axes>"
      ]
     },
     "metadata": {
      "needs_background": "light"
     },
     "output_type": "display_data"
    }
   ],
   "source": [
    "gph = plt.figure(figsize=(10,5))\n",
    "params = list(res['PARAMS'].unique())\n",
    "num_instances_feas = [5*i for i in range(1,5)]\n",
    "\n",
    "colors = ['r','b','g']\n",
    "\n",
    "for i, mdl_name in enumerate(res.mdl_name.unique()):\n",
    "    print(i, mdl_name)\n",
    "    \n",
    "    res_mdl = res[res['mdl_name'] == mdl_name]\n",
    "    res_mdl = res_mdl[res_mdl['STATUS'].str.contains(\"optimal\")]\n",
    "    res_mdl = res_mdl.sort_values(['SOLVE_TIME'])\n",
    "    solve_times = res_mdl['SOLVE_TIME'].unique()\n",
    "    counts = []\n",
    "    for t in solve_times:\n",
    "        counts.append(res_mdl[res_mdl['SOLVE_TIME'] <= t].shape[0])\n",
    "    \n",
    "    plt.step(list(solve_times), counts, \"{}*-\".format(colors[i]), where='post')\n",
    "    \n",
    "plt.legend(res.mdl_name.unique(), loc='lower right', fontsize= 20)\n",
    "plt.xlabel(\"Timeout (seconds)\", fontsize= 20)\n",
    "plt.ylabel(\"# of instances at optimality\", fontsize= 20)\n",
    "# gph.plot(res.groupby([\"mdl_name\", \"timeout\"]['obj'].count()), DF0.x, DF0.y, \"r.--\")\n",
    "plt.tick_params(axis='x', labelsize=15)\n",
    "plt.tick_params(axis='y', labelsize=15)"
   ]
  },
  {
   "cell_type": "code",
   "execution_count": 8,
   "metadata": {},
   "outputs": [
    {
     "data": {
      "text/plain": [
       "array([ 0.04799628,  0.06201077,  0.06249595,  0.06249714,  0.07199645,\n",
       "        0.07800198,  0.0792973 ,  0.10936761,  0.10937262,  0.1239996 ,\n",
       "        0.13299847,  0.14062548,  0.17307186,  0.20999837,  0.28124928,\n",
       "        0.36300182,  0.37400031,  0.41400599,  0.62699389,  0.64474559,\n",
       "        0.7845366 ,  1.03599691,  1.15045214,  1.53502607,  1.91000271,\n",
       "        2.40613508,  2.56356549,  3.12959623,  6.82640123, 11.71409559,\n",
       "       12.3243916 , 18.22964835])"
      ]
     },
     "execution_count": 8,
     "metadata": {},
     "output_type": "execute_result"
    }
   ],
   "source": [
    "solve_times"
   ]
  },
  {
   "cell_type": "code",
   "execution_count": null,
   "metadata": {},
   "outputs": [],
   "source": []
  }
 ],
 "metadata": {
  "kernelspec": {
   "display_name": "Python 3",
   "language": "python",
   "name": "python3"
  },
  "language_info": {
   "codemirror_mode": {
    "name": "ipython",
    "version": 3
   },
   "file_extension": ".py",
   "mimetype": "text/x-python",
   "name": "python",
   "nbconvert_exporter": "python",
   "pygments_lexer": "ipython3",
   "version": "3.6.5"
  }
 },
 "nbformat": 4,
 "nbformat_minor": 2
}
